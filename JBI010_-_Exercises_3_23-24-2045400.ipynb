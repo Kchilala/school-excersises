{
 "cells": [
  {
   "cell_type": "markdown",
   "metadata": {},
   "source": [
    "# JBI010 - Exercises 3 23-24\n",
    "\n",
    "This Jupyter notebook provides exercises for practicing your programming skills.\n",
    "\n",
    "**Notes**:\n",
    "* Submit your _personalized_ notebook to Canvas.\n",
    "* You then get automatic feedback from Momotor.\n",
    "* A score below 80% is treated as a 0.\n",
    "* A score of 80% or more is treated as a 10.\n",
    "* The best five out of six exercise sets count."
   ]
  },
  {
   "cell_type": "markdown",
   "metadata": {},
   "source": [
    "## Table of Contents\n",
    "\n",
    "<div class=\"toc\" style=\"margin-top: 1em;\">\n",
    "    <ul class=\"toc-item\">\n",
    "        <li>\n",
    "            <span><a href=\"#ascii-code\" data-toc-modified-id=\"ASCII-Code\">1. ASCII Code</a></span>\n",
    "        </li>\n",
    "        <li>\n",
    "            <span><a href=\"#counting-prefixes\" data-toc-modified-id=\"Counting-Prefixes\">2. Counting Prefixes</a></span>\n",
    "        </li>\n",
    "        <li>\n",
    "            <span><a href=\"#car-dictionaries\" data-toc-modified-id=\"Car-Dictionaries\">3. Car Dictionaries</a></span>\n",
    "        </li>\n",
    "        <li>\n",
    "            <span><a href=\"#students-grades\" data-toc-modified-id=\"Students-Grades\">4. Students Grades</a></span>\n",
    "        </li>\n",
    "        <li>\n",
    "            <span><a href=\"#employee-of-the-year\" data-toc-modified-id=\"Employee-of-the-Year\">5. Employee of the Year</a></span>\n",
    "        </li>\n",
    "        <li>\n",
    "            <span><a href=\"#pokemon-search\" data-toc-modified-id=\"Pokemon-Search\">6. Pokemon Search</a></span>\n",
    "        </li>\n",
    "        </ul>\n",
    "</div>"
   ]
  },
  {
   "cell_type": "markdown",
   "metadata": {},
   "source": [
    "\n",
    "# Introduction to This Template Notebook\n",
    "\n",
    "<div class=\"alert alert-danger\" role=\"danger\">\n",
    "<h3>Integrity</h3>\n",
    "<ul>\n",
    "    <li>In this course, you must act according to the rules of the TU/e code of scientific conduct.</li>\n",
    "    <li>All the exercises and the graded assignments are to be done within your programming homework group.</li>\n",
    "    <li>You must not copy from the Internet, your friends, books... If you represent other people's work as your own, then that constitutes fraud and will be reported to the Examination Committee.</li>\n",
    "    <li>Making your work available to others (complicity) also constitutes fraud.</li>\n",
    "</ul>\n",
    "</div>\n",
    "\n",
    "You are expected to work with Python 3 code in this notebook.\n",
    "\n",
    "The locations where you should write your solutions can be recognized by\n",
    "**marker lines**,\n",
    "which look like this:\n",
    "\n",
    ">`#//`\n",
    ">    `BEGIN_TODO [Label]` `Description` `(n points)`\n",
    ">\n",
    ">`#//`\n",
    ">    `END_TODO [Label]`\n",
    "\n",
    "<div class=\"alert alert-warning\" role=\"alert\">\n",
    "    <h3>Markers</h3>\n",
    "    Do NOT modify or delete these marker lines.  Keep them as they are.<br/>\n",
    "    NEVER write code that is needed for grading <i>outside</i> the marked blocks. It is invisible there.\n",
    "</div>\n",
    "\n",
    "Proceed in this notebook as follows:\n",
    "* **Personalize** the notebook (see below).\n",
    "* **Read** the text.\n",
    "* **Fill in** your solutions between `BEGIN_TODO` and `END_TODO` marker lines.\n",
    "* **Run** _all_ code cells (also the ones _without_ your code),\n",
    "    _in linear order_ from the first code cell.\n",
    "\n",
    "**Personalize your notebook**:\n",
    "1. Fill in your _full name_, _identification number_, and the current _date_ as strings between quotes.\n",
    "1. Run the code cell by putting the cursor there and typing **Control-Enter**.\n"
   ]
  },
  {
   "cell_type": "code",
   "execution_count": 1,
   "metadata": {},
   "outputs": [
    {
     "data": {
      "text/plain": [
       "('Keci Nunes Francisco Chilala', '2045400', '2023-08-02')"
      ]
     },
     "execution_count": 1,
     "metadata": {},
     "output_type": "execute_result"
    }
   ],
   "source": [
    "#// BEGIN_TODO [Author] Name, Id.nr., Date, as strings (1 point)\n",
    "\n",
    "AUTHOR_NAME = 'Keci Nunes Francisco Chilala'\n",
    "AUTHOR_ID_NR = '2045400'\n",
    "AUTHOR_DATE = '2023-08-02'  # when first modified, e.g. '2023-08-02'\n",
    "\n",
    "#// END_TODO [Author]\n",
    "\n",
    "AUTHOR_NAME, AUTHOR_ID_NR, AUTHOR_DATE"
   ]
  },
  {
   "cell_type": "markdown",
   "metadata": {},
   "source": [
    "\n",
    "## How to Submit Your Work\n",
    "\n",
    "1. **Rename the notebook**, replacing `...-template.ipynb` with `...-yourIDnr.ipynb`, where `yourIDnr` is your TU/e identification number.\n",
    "\n",
    "1. **Before submitting**, you must run your notebook by doing **Kernel > Restart & Run All**. Make sure that your notebook runs without errors **in linear order**.\n",
    "\n",
    "1. Submit the executed notebook with your work for the appropriate assignment in **Canvas**.\n",
    "\n",
    "1. In the **Momotor** tab in Canvas, you can select that assignment again to find some feedback on your submitted work.\n",
    "  \n",
    "1. If there are any problems reported by _Momotor_, then you need to fix those issues and **resubmit the fixed notebook**.\n"
   ]
  },
  {
   "cell_type": "markdown",
   "metadata": {},
   "source": [
    "## Preliminaries\n",
    "\n",
    "Run the cell below. This cell will import additional modules providing additional Python functionality."
   ]
  },
  {
   "cell_type": "code",
   "execution_count": 2,
   "metadata": {},
   "outputs": [],
   "source": [
    "# Imports\n",
    "import json\n",
    "from typing import Dict, List"
   ]
  },
  {
   "cell_type": "markdown",
   "metadata": {},
   "source": [
    "\n",
    "## Important Reminder\n",
    "\n",
    "Follow all coding conventions defined in the Python Coding Standard document. Remember that you are not just programming for a **machine**, you are mainly programming for other **humans**! In particular:  \n",
    "- all function definitions must have **type hints** and a **docstring**, and;\n",
    "- a *valid docstring* starts with a **capital letter** and ends with a **dot**. "
   ]
  },
  {
   "cell_type": "markdown",
   "metadata": {},
   "source": [
    "## Nb Mypy\n",
    "\n",
    "The following cell will attempt to enable `mypy` type checking in the notebook.\n",
    "`mypy` is an optional static type checker for Python,\n",
    "which can help you identify type errors in your code.\n",
    "If you prefer not to use it, just comment the code cell.\n",
    "\n",
    "For this to work, you need to have installed [`Nb-Mypy`](https://pypi.org/project/nb-mypy/).\n",
    "This is experimental and optional.\n",
    "Some additional examples on its use can be found [here](https://gitlab.tue.nl/jupyter-projects/nb_mypy/-/blob/master/Nb_Mypy.ipynb).\n",
    "\n",
    "**Note**:\n",
    "\n",
    "* Type checking can be picky.\n",
    "  In some cases, you can ignore the `nb-mypy` message.\n",
    "* In case of doubt, ask for help."
   ]
  },
  {
   "cell_type": "code",
   "execution_count": 3,
   "metadata": {},
   "outputs": [
    {
     "name": "stdout",
     "output_type": "stream",
     "text": [
      "Type checking facility (Nb Mypy) is not installed.\n",
      "To use this facility, install Nb Mypy by executing (in a cell):\n",
      "  !python3 -m pip install nb_mypy\n"
     ]
    }
   ],
   "source": [
    "# Enable mypy type checking\n",
    "\n",
    "try:\n",
    "    %load_ext nb_mypy\n",
    "except ModuleNotFoundError:\n",
    "    print('Type checking facility (Nb Mypy) is not installed.')\n",
    "    print('To use this facility, install Nb Mypy by executing (in a cell):')\n",
    "    print('  !python3 -m pip install nb_mypy')"
   ]
  },
  {
   "cell_type": "markdown",
   "metadata": {},
   "source": [
    "# ASCII Code"
   ]
  },
  {
   "cell_type": "markdown",
   "metadata": {},
   "source": [
    "Create the function `char_to_ascii` that has no parameters and returns a dictionary. Store this dictionary in a variable called `alphabet`. The keys of this dictionary are the lowercase letters a, b, ..., z of the English alphabet. The value of each key corresponds to the ASCII code of that key. \n",
    "\n",
    "For instance, the first three key-value pairs of `alphabet` are: `{'a': 97, 'b': 98, 'c': 99}`.\n",
    "\n",
    "**Notes:**\n",
    "1. The function ```ord(char)``` takes a character and returns the ASCII code of that character.\n",
    "2. The function ```chr(int)``` takes an ASCII code and returns its corresponding  ASCII character.\n",
    "```python\n",
    "ord('a') == 97\n",
    "chr(97) == 'a'\n",
    "```\n",
    "3. The function must have a docstring and type hints.\n",
    "\n",
    "\n",
    "**Example:**  \n",
    "*Input:*  \n",
    "<pre>\n",
    "None\n",
    "</pre>\n",
    "\n",
    "*Output:*  \n",
    "\n",
    "```Python\n",
    "{ 'a': 97, 'b': 98, 'c': 99, ... }\n",
    "```"
   ]
  },
  {
   "cell_type": "code",
   "execution_count": 4,
   "metadata": {},
   "outputs": [
    {
     "name": "stdout",
     "output_type": "stream",
     "text": [
      "{'a': 97, 'b': 98, 'c': 99, 'd': 100, 'e': 101, 'f': 102, 'g': 103, 'h': 104, 'i': 105, 'j': 106, 'k': 107, 'l': 108, 'm': 109, 'n': 110, 'o': 111, 'p': 112, 'q': 113, 'r': 114, 's': 115, 't': 116, 'u': 117, 'v': 118, 'w': 119, 'x': 120, 'y': 121, 'z': 122}\n"
     ]
    }
   ],
   "source": [
    "#// BEGIN_TODO [ASCII_code] ASCII code\n",
    "\n",
    "def char_to_ascii()-> dict[chr, int]:\n",
    "    \n",
    "    \"\"\"\n",
    "    this function converts a character to a ASCII code key and returns a disctionary.\n",
    "    \n",
    "    :param: this function takes no parameters\n",
    "    \"\"\"\n",
    "    alphabet = {}\n",
    "    letters = 'abcdefghijklmnopqrstuvwxyz'    \n",
    "    \n",
    "    for letter in letters:\n",
    "        alphabet[letter] = ord(letter)\n",
    "    \n",
    "    \n",
    "    return alphabet\n",
    "    \n",
    "alphabet: dict = char_to_ascii()\n",
    "\n",
    "#// END_TODO [ASCII_code]\n",
    "\n",
    "print(alphabet)\n"
   ]
  },
  {
   "cell_type": "markdown",
   "metadata": {},
   "source": [
    "# Counting Prefixes"
   ]
  },
  {
   "cell_type": "markdown",
   "metadata": {},
   "source": [
    "The function `histogram` creates a dictionary that stores the frequency of letters in a given `word`.\n",
    "\n",
    "```Python\n",
    "def histogram(word: str) -> Dict[str, int]:\n",
    "    \"\"\"\n",
    "    Computes a histogram of prefixes of length n.\n",
    "    :param words: list of words\n",
    "    :param n: size of the prefix\n",
    "    :returns: dictionary with the frequency of prefixes in the list `words`.\n",
    "    \"\"\"\n",
    "    \n",
    "    dct = dict()\n",
    "    for ch in word:\n",
    "        if ch not in dct:\n",
    "            dct[ch] = 1\n",
    "        else:\n",
    "            dct[ch] += 1\n",
    "            \n",
    "    return dct\n",
    "\n",
    "```\n",
    "\n",
    "Modify the function `histogram` to receive two parameters: `words` and `n` (keep the given order).\n",
    "The parameter `words` is a list of strings and `n` is an integer. The new function will return a dictionary corresponding to the histogram of the prefixes of `words`. The prefixes are obtained by selecting the first `n` characters of each word contained in `words`. \n",
    "\n",
    "**Notes:**\n",
    "1. Assume that `n >= 1` and `words` is a non-empty list.\n",
    "2. The function must have a docstring and type hints.\n",
    "3. Make sure to use the order of the parameters that we defined above.\n",
    "\n",
    "**Example:**  \n",
    "*Input:*  \n",
    "```Python \n",
    "words = ['hollow', 'home', 'show', 'rec', 'recital', 'rome']\n",
    "n = 2\n",
    "```\n",
    "\n",
    "*Output:*  \n",
    "```Python\n",
    "{ 'ho': 2, 'sh': 1, 're': 2, 'ro': 1}\n",
    "```"
   ]
  },
  {
   "cell_type": "code",
   "execution_count": 5,
   "metadata": {},
   "outputs": [
    {
     "data": {
      "text/plain": [
       "{'ho': 2, 'sh': 1, 're': 2, 'ro': 1}"
      ]
     },
     "execution_count": 5,
     "metadata": {},
     "output_type": "execute_result"
    }
   ],
   "source": [
    "words = ['hollow', 'home', 'show', 'rec', 'recital', 'rome']\n",
    "n = 2\n",
    "\n",
    "#// BEGIN_TODO [Counting_prefixes] Counting prefixes\n",
    "\n",
    "from typing import Dict, List\n",
    "\n",
    "def histogram(words: List[str], n: int) -> dict[str, int]:\n",
    "    \"\"\"\n",
    "    Computes a histogram of prefixes of length n for each word in the list.\n",
    "    :param words: list of words\n",
    "    :param n: size of the prefix\n",
    "    :returns: dictionary with the frequency of prefixes in the list `words`.\n",
    "    \"\"\"\n",
    "    \n",
    "    dct = dict()\n",
    "    \n",
    "    for word in words:\n",
    "        if len(word) < n:\n",
    "            continue\n",
    "        \n",
    "        prefix = word[:n]  \n",
    "        \n",
    "        if prefix not in dct:\n",
    "            dct[prefix] = 1\n",
    "        else:\n",
    "            dct[prefix] += 1\n",
    "            \n",
    "    return dct\n",
    "\n",
    "#// END_TODO [Counting_prefixes]\n",
    "\n",
    "histogram(words, n)"
   ]
  },
  {
   "cell_type": "markdown",
   "metadata": {},
   "source": [
    "# Car Dictionaries"
   ]
  },
  {
   "cell_type": "markdown",
   "metadata": {},
   "source": [
    "Lists of dictionaries are commonly used to store structured data. The following cell presents the `cars` list. The list contains dictionaries with car information. The keys of each dictionary are: `'brand'`, `'model'`, `'manufacture_year'`, and `'price'`."
   ]
  },
  {
   "cell_type": "code",
   "execution_count": 6,
   "metadata": {},
   "outputs": [],
   "source": [
    "# Do not modify the code in this cell\n",
    "cars = [\n",
    "    {'brand': 'McFarri', 'model': '445', 'manufacture_year': 1980, 'price': 18000},\n",
    "    {'brand': 'McFarri', 'model': '455', 'manufacture_year': 1985, 'price': 22000},\n",
    "    {'brand': 'McFarri', 'model': '545', 'manufacture_year': 1998, 'price': 28000},\n",
    "    {'brand': 'McFarri', 'model': '555', 'manufacture_year': 2001, 'price': 30599},\n",
    "    {'brand': 'McFarri', 'model': 's445', 'manufacture_year': 2007, 'price': 36000},\n",
    "    {'brand': 'McFarri', 'model': 's455', 'manufacture_year': 2008, 'price': 44000},\n",
    "    {'brand': 'McFarri', 'model': 's545', 'manufacture_year': 2013, 'price': 56000},\n",
    "    {'brand': 'McFarri', 'model': 's555', 'manufacture_year': 2017, 'price': 112599},\n",
    "    {'brand': 'Tipsla', 'model': 'S', 'manufacture_year': 2008, 'price': 24000},\n",
    "    {'brand': 'Tipsla', 'model': 'S2', 'manufacture_year': 2010, 'price': 32999},\n",
    "    {'brand': 'Tipsla', 'model': 'X', 'manufacture_year': 2013, 'price': 28999},\n",
    "    {'brand': 'Tipsla', 'model': 'X2', 'manufacture_year': 2015, 'price': 35999},\n",
    "    {'brand': 'Tipsla', 'model': 'XF', 'manufacture_year': 2018, 'price': 39999},\n",
    "    {'brand': 'Tipsla', 'model': 'XF2.0', 'manufacture_year': 2019, 'price': 49999},\n",
    "    {'brand': 'Nissota', 'model': 'root', 'manufacture_year': 1990, 'price': 12500},\n",
    "    {'brand': 'Nissota', 'model': 'stem', 'manufacture_year': 1998, 'price': 17500},\n",
    "    {'brand': 'Nissota', 'model': 'branch', 'manufacture_year': 2010, 'price': 23999},\n",
    "    {'brand': 'Nissota', 'model': 'leaf', 'manufacture_year': 2015, 'price': 31999}\n",
    "]"
   ]
  },
  {
   "cell_type": "markdown",
   "metadata": {},
   "source": [
    "We want to include in these dictionaries two additional keys: the distance traveled by car and the factory where the car was manufactured.  \n",
    "\n",
    "Your task is to write the function `update_cars`, which gets the current year (integer) and a list of dictionaries representing cars as parameters and returns the updated list.   \n",
    "The function updates the `cars` list by adding the keys `'distance'` and `'origin'`, whose values are computed considering the following requirements:\n",
    "\n",
    "* Expensive cars (price > 37,500) are only driven for 80,000 km a year.\n",
    "* Normal cars (price <= 37,500) are driven for a total of 240,000 km per year.\n",
    "* The regular McFarri cars are from Britain, but the s-class cars are manufactured in Italy.\n",
    "* The Tipsla cars are manufactured in The Netherlands, except for the Tipsla XF2.0 which is manufactured in the USA.\n",
    "* All Nissotas are manufactured in Japan.\n",
    "\n",
    "**Notes:** \n",
    "1. The modified dictionaries must have the required keys, but their order is not relevant.\n",
    "2. When computing the values of `distance`, the current year and the manufacture year must be used to compute the number of years a car has been driven. \n",
    "3. Beware of the use of upper-case and lower-case letters, as well as of white spaces. Inconsistencies or unexpected characters might lead to a wrong solution.\n",
    "3. The function must have a docstring and type hints.\n",
    "4. Make sure to use the order of the parameters that we defined above.\n",
    "\n",
    "\n",
    "**Example:**  \n",
    "*Input:*  \n",
    "```Python \n",
    "year = 2021\n",
    "cars = [{'brand': 'McFarri',\n",
    "         'model': '445',\n",
    "         'manufacture_year': 1980,\n",
    "         'price': 18000}, ...]\n",
    "```\n",
    "\n",
    "*Output:*  \n",
    "```Python\n",
    "[{'brand': 'McFarri',\n",
    "  'model': '445',\n",
    "  'manufacture_year': 1980,\n",
    "  'price': 18000,\n",
    "  'distance': 9840000,\n",
    "  'origin': 'Britain'}, ...]\n",
    "```"
   ]
  },
  {
   "cell_type": "code",
   "execution_count": 7,
   "metadata": {
    "scrolled": true
   },
   "outputs": [
    {
     "data": {
      "text/plain": [
       "[{'brand': 'McFarri',\n",
       "  'model': '445',\n",
       "  'manufacture_year': 1980,\n",
       "  'price': 18000,\n",
       "  'distance': 9840000},\n",
       " {'brand': 'McFarri',\n",
       "  'model': '455',\n",
       "  'manufacture_year': 1985,\n",
       "  'price': 22000,\n",
       "  'distance': 8640000},\n",
       " {'brand': 'McFarri',\n",
       "  'model': '545',\n",
       "  'manufacture_year': 1998,\n",
       "  'price': 28000,\n",
       "  'distance': 5520000},\n",
       " {'brand': 'McFarri',\n",
       "  'model': '555',\n",
       "  'manufacture_year': 2001,\n",
       "  'price': 30599,\n",
       "  'distance': 4800000},\n",
       " {'brand': 'McFarri',\n",
       "  'model': 's445',\n",
       "  'manufacture_year': 2007,\n",
       "  'price': 36000,\n",
       "  'origin': 'Italy',\n",
       "  'distance': 3360000},\n",
       " {'brand': 'McFarri',\n",
       "  'model': 's455',\n",
       "  'manufacture_year': 2008,\n",
       "  'price': 44000,\n",
       "  'origin': 'Italy',\n",
       "  'distance': 1040000},\n",
       " {'brand': 'McFarri',\n",
       "  'model': 's545',\n",
       "  'manufacture_year': 2013,\n",
       "  'price': 56000,\n",
       "  'origin': 'Italy',\n",
       "  'distance': 640000},\n",
       " {'brand': 'McFarri',\n",
       "  'model': 's555',\n",
       "  'manufacture_year': 2017,\n",
       "  'price': 112599,\n",
       "  'origin': 'Italy',\n",
       "  'distance': 320000},\n",
       " {'brand': 'Tipsla',\n",
       "  'model': 'S',\n",
       "  'manufacture_year': 2008,\n",
       "  'price': 24000,\n",
       "  'origin': 'The Netherlands',\n",
       "  'distance': 3120000},\n",
       " {'brand': 'Tipsla',\n",
       "  'model': 'S2',\n",
       "  'manufacture_year': 2010,\n",
       "  'price': 32999,\n",
       "  'origin': 'The Netherlands',\n",
       "  'distance': 2640000},\n",
       " {'brand': 'Tipsla',\n",
       "  'model': 'X',\n",
       "  'manufacture_year': 2013,\n",
       "  'price': 28999,\n",
       "  'origin': 'The Netherlands',\n",
       "  'distance': 1920000},\n",
       " {'brand': 'Tipsla',\n",
       "  'model': 'X2',\n",
       "  'manufacture_year': 2015,\n",
       "  'price': 35999,\n",
       "  'origin': 'The Netherlands',\n",
       "  'distance': 1440000},\n",
       " {'brand': 'Tipsla',\n",
       "  'model': 'XF',\n",
       "  'manufacture_year': 2018,\n",
       "  'price': 39999,\n",
       "  'origin': 'The Netherlands',\n",
       "  'distance': 240000},\n",
       " {'brand': 'Tipsla',\n",
       "  'model': 'XF2.0',\n",
       "  'manufacture_year': 2019,\n",
       "  'price': 49999,\n",
       "  'origin': 'USA',\n",
       "  'distance': 160000},\n",
       " {'brand': 'Nissota',\n",
       "  'model': 'root',\n",
       "  'manufacture_year': 1990,\n",
       "  'price': 12500,\n",
       "  'origin': 'Japan',\n",
       "  'distance': 7440000},\n",
       " {'brand': 'Nissota',\n",
       "  'model': 'stem',\n",
       "  'manufacture_year': 1998,\n",
       "  'price': 17500,\n",
       "  'origin': 'Japan',\n",
       "  'distance': 5520000},\n",
       " {'brand': 'Nissota',\n",
       "  'model': 'branch',\n",
       "  'manufacture_year': 2010,\n",
       "  'price': 23999,\n",
       "  'origin': 'Japan',\n",
       "  'distance': 2640000},\n",
       " {'brand': 'Nissota',\n",
       "  'model': 'leaf',\n",
       "  'manufacture_year': 2015,\n",
       "  'price': 31999,\n",
       "  'origin': 'Japan',\n",
       "  'distance': 1440000}]"
      ]
     },
     "execution_count": 7,
     "metadata": {},
     "output_type": "execute_result"
    }
   ],
   "source": [
    "current_year = 2021\n",
    "\n",
    "#// BEGIN_TODO [Car_dictionaries] Car dictionaries\n",
    "\n",
    "def update_cars(current_year: int, cars:list[dict])->list[dict[str, any]]:\n",
    "    \"\"\"\n",
    "    This function updates the cars list to a updated cars list.\n",
    "    \n",
    "    :current_year: this argument is a integer and is the current year we in\n",
    "    :cars: is a list of dictionarys with car data \n",
    "    \"\"\"\n",
    "\n",
    "\n",
    "    index = 0 \n",
    "    #made a while loop to iterate trough the dictionary\n",
    "    while index <= len(cars)-1:\n",
    "\n",
    "    #This code checks where the McFarri is manufactured \n",
    "        if cars[index]['brand']== 'McFarri':\n",
    "            if 's' in cars[index]['model']:\n",
    "                origin = 'Italy'\n",
    "                cars[index]['origin'] = origin\n",
    "        else:\n",
    "            origin = 'Brittan'\n",
    "            cars[index]['origin'] = origin\n",
    "            \n",
    "    \n",
    "    \n",
    "    \n",
    "    \n",
    "    #This code below checks where the car is manufactured \n",
    "        if cars[index]['brand'] == 'Nissota':\n",
    "            origin = 'Japan'\n",
    "            cars[index]['origin'] = origin\n",
    "        elif 'XF2.0' in cars[index]['model']:\n",
    "            origin = 'USA'\n",
    "            cars[index]['origin'] = origin\n",
    "        elif cars[index]['brand'] == 'Tipsla':\n",
    "            origin = 'The Netherlands'\n",
    "            cars[index]['origin'] = origin\n",
    "        \n",
    "\n",
    "    #this code below calculates the distance\n",
    "        if cars[index]['price'] <= 37500:\n",
    "            distance: int = (current_year - (cars[index]['manufacture_year']))*240000\n",
    "            cars[index]['distance'] = distance\n",
    "    \n",
    "        else:\n",
    "            distance: int = (current_year - (cars[index]['manufacture_year']))*80000\n",
    "            cars[index]['distance'] = distance\n",
    "\n",
    "        index += 1\n",
    "    \n",
    "    return cars #this code returns the updated list \n",
    "    \n",
    "\n",
    "#// END_TODO [Car_dictionaries]\n",
    "\n",
    "cars = update_cars(current_year, cars)\n",
    "cars"
   ]
  },
  {
   "cell_type": "markdown",
   "metadata": {},
   "source": [
    "# Students Grades"
   ]
  },
  {
   "cell_type": "markdown",
   "metadata": {},
   "source": [
    "We are using a dictionary called `students` to store student names and their corresponding grades obtained from several assignments. For this exercise, write a function `get_best_student` that receives a dictionary `students` as a parameter and returns the name of the student having the best average grade.\n",
    "\n",
    "**Example:**  \n",
    "*Input:*  \n",
    "```Python \n",
    "students = {'max': [9, 9, 8, 10, 8, 7],\n",
    "            'paula': [10, 10, 8, 9, 9, 10], \n",
    "            'sangeeth': [5, 6, 7, 8, 9, 10],\n",
    "            'susanne': [9, 10, 4, 7, 7, 8]}\n",
    "```\n",
    "\n",
    "*Output:*  \n",
    "```Python\n",
    "paula\n",
    "```"
   ]
  },
  {
   "cell_type": "code",
   "execution_count": 8,
   "metadata": {},
   "outputs": [
    {
     "data": {
      "text/plain": [
       "'paula'"
      ]
     },
     "execution_count": 8,
     "metadata": {},
     "output_type": "execute_result"
    }
   ],
   "source": [
    "students = {'max': [9, 9, 8, 10, 8, 7],\n",
    "            'paula': [10, 10, 8, 9, 9, 10], \n",
    "            'sangeeth': [5, 6, 7, 8, 9, 10],\n",
    "            'susanne': [9, 10, 4, 7, 7, 8]}\n",
    "\n",
    "#// BEGIN_TODO [Students_grades] Students grades\n",
    "\n",
    "#name: create a function named get_best_student \n",
    "def get_best_student(students: dict[str, list[int]])-> str:\n",
    "    \"\"\"\n",
    "    gets the student with the best average grade.\n",
    "    \n",
    "    :argument: students is a dict with a list as values. that has the grades of the students \n",
    "    \"\"\"\n",
    "\n",
    "\n",
    "\n",
    "\n",
    "#this code below updates the value to the average grade\n",
    "    for student in students:\n",
    "        total_grade: int = sum(students[student])\n",
    "        avg_grade: int = total_grade / len(students[student])\n",
    "        students[student] = avg_grade\n",
    "    \n",
    "\n",
    "\n",
    "# list out keys and values separately\n",
    "    student_key_list: list = list(students.keys())\n",
    "    student_val_list: list = list(students.values())\n",
    "\n",
    "# print key with the higest average grade \n",
    "    position: float = student_val_list.index(max(students.values()))\n",
    "    return student_key_list[position]\n",
    "\n",
    "\n",
    "#// END_TODO [Students_grades]\n",
    "\n",
    "get_best_student(students)"
   ]
  },
  {
   "cell_type": "markdown",
   "metadata": {},
   "source": [
    "# Employee of the Year"
   ]
  },
  {
   "cell_type": "markdown",
   "metadata": {},
   "source": [
    "The `datasets` folder contains the `tasks` JSON file, which is a dataset taken from a large corporation. This file contains a list of all the tasks that the employees have handled in the last year. Create the function `find_employee_of_year`, which takes the path to the dataset as a parameter (`path`) and returns a list with all the IDs of the employees (strings) that have completed the highest number of tasks. Store the result in the `best_employees` variable.\n",
    "The JSON file contains many dictionaries in which all the keys refer to the IDs of the employees and the values of those dictionaries refer to the tasks that each employee had to do.\n",
    "\n",
    "**Notes:** \n",
    "1. The items in this list contain other data structures (lists, dicts).\n",
    "2. Explore the dataset first to get familiar with the data.\n",
    "3. Investigate about and use the `json` module.\n",
    "4. The function must have a docstring and type hints.\n",
    "\n",
    "**Example:**  \n",
    "*Input:*  \n",
    "```Python\n",
    "path = 'datasets/tasks.json'\n",
    "```\n",
    "\n",
    "*Output:*  \n",
    "```Python\n",
    "['319133', '856942']\n",
    "```"
   ]
  },
  {
   "cell_type": "code",
   "execution_count": 9,
   "metadata": {},
   "outputs": [
    {
     "name": "stdout",
     "output_type": "stream",
     "text": [
      "['319133', '856942']\n"
     ]
    }
   ],
   "source": [
    "path = 'datasets/tasks.json'\n",
    "\n",
    "#// BEGIN_TODO [Employee_of_the_year] Employee of the year\n",
    "import json\n",
    "\n",
    "#create a function named find_employee_of_the_year\n",
    "def find_employee_of_year(path: str)-> list[str]:\n",
    "    \"\"\"\n",
    "    This function finds the best employee that's finished the most tasks and returns it as a list. \n",
    "    \n",
    "    :Arguments: Path is a string that is the path to the JSON file \n",
    "    :Returns: This function a lists with the id numbers that finished the most tasks\n",
    "    \n",
    "    \"\"\"\n",
    "    \n",
    "    with open(path, 'r') as file:\n",
    "        data = json.load(file)\n",
    "    \n",
    "    bestlst: list = []\n",
    "    max_tasks = 0\n",
    "    \n",
    "    dct: dict = {}\n",
    "    \n",
    "    for info in data:\n",
    "        for id, values in info.items():\n",
    "            total = sum(1 for value in values if value.get(\"done\", False))\n",
    "            if total > max_tasks:\n",
    "                max_tasks = total\n",
    "            dct[id] = total\n",
    "    \n",
    "    for ident, taskamount in dct.items():\n",
    "        if taskamount == max_tasks:\n",
    "            bestlst.append(ident)\n",
    "    \n",
    "    return bestlst\n",
    "    \n",
    "    \n",
    "    \n",
    "    \n",
    "    \n",
    "best_employees = find_employee_of_year(path)\n",
    "\n",
    "\n",
    "\n",
    "#// END_TODO [Employee_of_the_year]\n",
    "\n",
    "print(best_employees)"
   ]
  },
  {
   "cell_type": "markdown",
   "metadata": {},
   "source": [
    "# Pokemon Search"
   ]
  },
  {
   "cell_type": "markdown",
   "metadata": {},
   "source": [
    "The `datasets` folder contains the `pokedex` file, which has information about all Pokemons, including their IDs, names, stats, types, and skills. Load the `pokedex.json` file into the `pokedex` variable.\n",
    "\n",
    "Then, create a function `compute_pokemon_skills` that receives the path of the `pokedex` file (`path`) and the name of a Pokemon as a parameter (`name`), and; returns an integer with the number of skills that the Pokemon can learn (also count duplicate skills). If the Pokemon does not exist in the file you must return `-1`.\n",
    "\n",
    "**Notes:** \n",
    "1. The items in this list contain other data structures (lists, dicts).\n",
    "2. Explore the dataset first to get familiar with the data.\n",
    "3. Investigate about and use the `json` module.\n",
    "\n",
    "**Example:**  \n",
    "*Input:*  \n",
    "```Python \n",
    "path = 'datasets/pokedex.json'\n",
    "name = 'Bulbasaur'\n",
    "```\n",
    "\n",
    "*Output:*  \n",
    "```Python\n",
    "67\n",
    "```"
   ]
  },
  {
   "cell_type": "code",
   "execution_count": 10,
   "metadata": {},
   "outputs": [
    {
     "data": {
      "text/plain": [
       "67"
      ]
     },
     "execution_count": 10,
     "metadata": {},
     "output_type": "execute_result"
    }
   ],
   "source": [
    "path = 'datasets/pokedex.json'\n",
    "name = 'Bulbasaur'\n",
    "\n",
    "#// BEGIN_TODO [Pokemon_search] Pokemon search\n",
    "\n",
    "    \n",
    "\n",
    "\n",
    "import json\n",
    "\n",
    "\n",
    "def compute_pokemon_skills(path: str, name:str)-> int:\n",
    "    \"\"\"\n",
    "    receives the path of the pokedex file (path) and the name of a Pokemon as a parameter (name), \n",
    "    and; returns an integer with the number of skills that the Pokemon can learn.\n",
    "    \n",
    "    \n",
    "    :Arguments1: receives the path of the pokedex file (str)\n",
    "    :Arguments2: name of a Pokemon as a parameter\n",
    "    \"\"\"\n",
    "    try:\n",
    "        with open(path, 'r', encoding='utf-8') as file:\n",
    "            pokedex = json.load(file)\n",
    "    except FileNotFoundError:\n",
    "        return -1  # File not found\n",
    "    \n",
    "    # Search for the Pokemon by name\n",
    "    for pokemon in pokedex:\n",
    "        if pokemon['ename'] == name:\n",
    "            skills = pokemon['skills']\n",
    "            total_skills = sum(len(skills[key]) for key in skills)\n",
    "            return total_skills\n",
    "    \n",
    "    \n",
    "\n",
    "\n",
    "\n",
    "        \n",
    "\n",
    "\n",
    "    \n",
    "#// END_TODO [Pokemon_search]\n",
    "\n",
    "compute_pokemon_skills(path, name)"
   ]
  },
  {
   "cell_type": "markdown",
   "metadata": {},
   "source": [
    "\n",
    "---"
   ]
  },
  {
   "cell_type": "code",
   "execution_count": 11,
   "metadata": {},
   "outputs": [
    {
     "name": "stdout",
     "output_type": "stream",
     "text": [
      "Variable                 Type                    Data/Info\n",
      "----------------------------------------------------------\n",
      "AUTHOR_DATE              str                     2023-08-02\n",
      "AUTHOR_ID_NR             str                     2045400\n",
      "AUTHOR_NAME              str                     Keci Nunes Francisco Chilala\n",
      "Dict                     _SpecialGenericAlias    typing.Dict\n",
      "List                     _SpecialGenericAlias    typing.List\n",
      "alphabet                 dict                    n=26\n",
      "best_employees           list                    n=2\n",
      "cars                     list                    n=18\n",
      "char_to_ascii            function                <function char_to_ascii at 0x7f9760789d80>\n",
      "compute_pokemon_skills   function                <function compute_pokemon<...>skills at 0x7f9760789120>\n",
      "current_year             int                     2021\n",
      "find_employee_of_year    function                <function find_employee_o<...>f_year at 0x7f976078b910>\n",
      "get_best_student         function                <function get_best_student at 0x7f976078a8c0>\n",
      "histogram                function                <function histogram at 0x7f976078a170>\n",
      "json                     module                  <module 'json' from '/Use<...>on3.10/json/__init__.py'>\n",
      "n                        int                     2\n",
      "name                     str                     Bulbasaur\n",
      "path                     str                     datasets/pokedex.json\n",
      "students                 dict                    n=4\n",
      "update_cars              function                <function update_cars at 0x7f976078a320>\n",
      "words                    list                    n=6\n"
     ]
    }
   ],
   "source": [
    "# List of all defined names\n",
    "%whos"
   ]
  },
  {
   "cell_type": "markdown",
   "metadata": {},
   "source": [
    "---\n",
    "\n",
    "# (End of Notebook)\n",
    "\n",
    "&copy; 2017-2023 - **TU/e** - Eindhoven University of Technology\n"
   ]
  }
 ],
 "metadata": {
  "anaconda-cloud": {},
  "kernelspec": {
   "display_name": "Python 3 (ipykernel)",
   "language": "python",
   "name": "python3"
  },
  "language_info": {
   "codemirror_mode": {
    "name": "ipython",
    "version": 3
   },
   "file_extension": ".py",
   "mimetype": "text/x-python",
   "name": "python",
   "nbconvert_exporter": "python",
   "pygments_lexer": "ipython3",
   "version": "3.10.12"
  },
  "vscode": {
   "interpreter": {
    "hash": "440ded6bd466dc632760b2783eaa5924fc8bb7d8bd9dda723193caf011fd0fab"
   }
  }
 },
 "nbformat": 4,
 "nbformat_minor": 4
}
