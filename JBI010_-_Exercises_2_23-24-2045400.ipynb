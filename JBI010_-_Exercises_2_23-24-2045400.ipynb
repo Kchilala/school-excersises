{
 "cells": [
  {
   "cell_type": "markdown",
   "metadata": {},
   "source": [
    "# JBI010 - Exercises 2 23-24\n",
    "\n",
    "This Jupyter notebook provides exercises for practicing your programming skills.\n",
    "\n",
    "**Notes**:\n",
    "* Submit your _personalized_ notebook to Canvas.\n",
    "* You then get automatic feedback from Momotor.\n",
    "* A score below 80% is treated as a 0.\n",
    "* A score of 80% or more is treated as a 10.\n",
    "* The best five out of six exercise sets count."
   ]
  },
  {
   "cell_type": "markdown",
   "metadata": {},
   "source": [
    "## Table of Contents\n",
    "\n",
    "<div class=\"toc\" style=\"margin-top: 1em;\">\n",
    "    <ul class=\"toc-item\">\n",
    "        <li>\n",
    "            <span><a href=\"#factorials\" data-toc-modified-id=\"Factorials\">1. Factorials</a></span>\n",
    "        </li>\n",
    "        <li>\n",
    "            <span><a href=\"#fibonacci-number\" data-toc-modified-id=\"Fibonacci-Number\">2. Fibonacci Number</a></span>\n",
    "        </li>\n",
    "        <li>\n",
    "            <span><a href=\"#collatz-conjecture\" data-toc-modified-id=\"Collatz-Conjecture\">3. Collatz Conjecture</a></span>\n",
    "        </li>\n",
    "        <li>\n",
    "            <span><a href=\"#trigonometry\" data-toc-modified-id=\"Trigonometry\">4. Trigonometry</a></span>\n",
    "        </li>\n",
    "        <li>\n",
    "            <span><a href=\"#pyramid-of-giza\" data-toc-modified-id=\"Pyramid-of-Giza\">5. Pyramid of Giza</a></span>\n",
    "        </li>\n",
    "        <li>\n",
    "            <span><a href=\"#prime-numbers\" data-toc-modified-id=\"Prime-Numbers\">6. Prime Numbers</a></span>\n",
    "        </li>\n",
    "        </ul>\n",
    "</div>"
   ]
  },
  {
   "cell_type": "markdown",
   "metadata": {},
   "source": [
    "\n",
    "# Introduction to This Template Notebook\n",
    "\n",
    "<div class=\"alert alert-danger\" role=\"danger\">\n",
    "<h3>Integrity</h3>\n",
    "<ul>\n",
    "    <li>In this course, you must act according to the rules of the TU/e code of scientific conduct.</li>\n",
    "    <li>All the exercises and the graded assignments are to be done within your programming homework group.</li>\n",
    "    <li>You must not copy from the Internet, your friends, books... If you represent other people's work as your own, then that constitutes fraud and will be reported to the Examination Committee.</li>\n",
    "    <li>Making your work available to others (complicity) also constitutes fraud.</li>\n",
    "</ul>\n",
    "</div>\n",
    "\n",
    "You are expected to work with Python 3 code in this notebook.\n",
    "\n",
    "The locations where you should write your solutions can be recognized by\n",
    "**marker lines**,\n",
    "which look like this:\n",
    "\n",
    ">`#//`\n",
    ">    `BEGIN_TODO [Label]` `Description` `(n points)`\n",
    ">\n",
    ">`#//`\n",
    ">    `END_TODO [Label]`\n",
    "\n",
    "<div class=\"alert alert-warning\" role=\"alert\">\n",
    "    <h3>Markers</h3>\n",
    "    Do NOT modify or delete these marker lines.  Keep them as they are.<br/>\n",
    "    NEVER write code that is needed for grading <i>outside</i> the marked blocks. It is invisible there.\n",
    "</div>\n",
    "\n",
    "Proceed in this notebook as follows:\n",
    "* **Personalize** the notebook (see below).\n",
    "* **Read** the text.\n",
    "* **Fill in** your solutions between `BEGIN_TODO` and `END_TODO` marker lines.\n",
    "* **Run** _all_ code cells (also the ones _without_ your code),\n",
    "    _in linear order_ from the first code cell.\n",
    "\n",
    "**Personalize your notebook**:\n",
    "1. Fill in your _full name_, _identification number_, and the current _date_ as strings between quotes.\n",
    "1. Run the code cell by putting the cursor there and typing **Control-Enter**.\n"
   ]
  },
  {
   "cell_type": "code",
   "execution_count": null,
   "metadata": {},
   "outputs": [],
   "source": [
    "#// BEGIN_TODO [Author] Name, Id.nr., Date, as strings (1 point)\n",
    "\n",
    "AUTHOR_NAME = 'Keci Nunes Francisco Chilala'\n",
    "AUTHOR_ID_NR = '2045400'\n",
    "AUTHOR_DATE = '2023-09-14'  # when first modified, e.g. '2023-08-02'\n",
    "\n",
    "#// END_TODO [Author]\n",
    "\n",
    "AUTHOR_NAME, AUTHOR_ID_NR, AUTHOR_DATE"
   ]
  },
  {
   "cell_type": "markdown",
   "metadata": {},
   "source": [
    "\n",
    "## How to Submit Your Work\n",
    "\n",
    "1. **Rename the notebook**, replacing `...-template.ipynb` with `...-yourIDnr.ipynb`, where `yourIDnr` is your TU/e identification number.\n",
    "\n",
    "1. **Before submitting**, you must run your notebook by doing **Kernel > Restart & Run All**. Make sure that your notebook runs without errors **in linear order**.\n",
    "\n",
    "1. Submit the executed notebook with your work for the appropriate assignment in **Canvas**.\n",
    "\n",
    "1. In the **Momotor** tab in Canvas, you can select that assignment again to find some feedback on your submitted work.\n",
    "  \n",
    "1. If there are any problems reported by _Momotor_, then you need to fix those issues and **resubmit the fixed notebook**.\n"
   ]
  },
  {
   "cell_type": "markdown",
   "metadata": {},
   "source": [
    "## Preliminaries\n",
    "\n",
    "Run the cell below. This cell will import additional modules providing additional Python functionality."
   ]
  },
  {
   "cell_type": "code",
   "execution_count": null,
   "metadata": {},
   "outputs": [],
   "source": [
    "# Imports\n",
    "import math\n",
    "from typing import List"
   ]
  },
  {
   "cell_type": "markdown",
   "metadata": {},
   "source": [
    "\n",
    "## Important Reminder\n",
    "\n",
    "Follow all coding conventions defined in the Python Coding Standard document. Remember that you are not just programming for a **machine**, you are mainly programming for other **humans**! In particular:  \n",
    "- all function definitions must have **type hints** and a **docstring**, and;\n",
    "- a *valid docstring* starts with a **capital letter** and ends with a **dot**. "
   ]
  },
  {
   "cell_type": "markdown",
   "metadata": {},
   "source": [
    "## Nb Mypy\n",
    "\n",
    "The following cell will attempt to enable `mypy` type checking in the notebook.\n",
    "`mypy` is an optional static type checker for Python,\n",
    "which can help you identify type errors in your code.\n",
    "If you prefer not to use it, just comment the code cell.\n",
    "\n",
    "For this to work, you need to have installed [`Nb-Mypy`](https://pypi.org/project/nb-mypy/).\n",
    "This is experimental and optional.\n",
    "Some additional examples on its use can be found [here](https://gitlab.tue.nl/jupyter-projects/nb_mypy/-/blob/master/Nb_Mypy.ipynb).\n",
    "\n",
    "**Note**:\n",
    "\n",
    "* Type checking can be picky.\n",
    "  In some cases, you can ignore the `nb-mypy` message.\n",
    "* In case of doubt, ask for help."
   ]
  },
  {
   "cell_type": "code",
   "execution_count": 1,
   "metadata": {},
   "outputs": [
    {
     "name": "stdout",
     "output_type": "stream",
     "text": [
      "Type checking facility (Nb Mypy) is not installed.\n",
      "To use this facility, install Nb Mypy by executing (in a cell):\n",
      "  !python3 -m pip install nb_mypy\n"
     ]
    }
   ],
   "source": [
    "# Enable mypy type checking\n",
    "\n",
    "try:\n",
    "    %load_ext nb_mypy\n",
    "except ModuleNotFoundError:\n",
    "    print('Type checking facility (Nb Mypy) is not installed.')\n",
    "    print('To use this facility, install Nb Mypy by executing (in a cell):')\n",
    "    print('  !python3 -m pip install nb_mypy')"
   ]
  },
  {
   "cell_type": "markdown",
   "metadata": {},
   "source": [
    "# Factorials"
   ]
  },
  {
   "cell_type": "markdown",
   "metadata": {},
   "source": [
    "Write a program that computes factorials. The program uses the variable `num` as input and stores the result in the variable `factorial`.\n",
    "\n",
    "A factorial is computed as $n! = n \\times (n - 1) \\times (n - 2) \\times (n - 3) \\times ... \\times 3 \\times 2 \\times 1$.  \n",
    "For example, $6! = 6 \\times 5 \\times 4 \\times 3 \\times 2 \\times 1 = 720$.<br><br>\n",
    "**Note:**<br>\n",
    "1. Make use of a `while` loop.\n",
    "2. Store the result in variable `factorial`.\n",
    "3. In each iteration of the `while` loop, the `factorial` variable has to change.\n",
    "4. do not make use of built-in `factorial` function.\n",
    "\n",
    "**Example:**\n",
    "```python\n",
    "# Input\n",
    "num = 5\n",
    "\n",
    "# Output \n",
    "factorial\n",
    "120\n",
    "```"
   ]
  },
  {
   "cell_type": "code",
   "execution_count": 12,
   "metadata": {},
   "outputs": [
    {
     "name": "stdout",
     "output_type": "stream",
     "text": [
      "120\n"
     ]
    }
   ],
   "source": [
    "num = 5\n",
    "\n",
    "#// BEGIN_TODO [Factorials] Factorials\n",
    "\n",
    "\n",
    "def factorial(num: int) -> int:\n",
    "    \"\"\"\n",
    "    Calculates the factorial of its argument n.\n",
    "    :param n: integer value\n",
    "    :returns: factorial value\n",
    "    \n",
    "    >>> factorial(0) # base case\n",
    "    1\n",
    "    >>> factorial(10) # arbitrary number\n",
    "    3628800\n",
    "    \"\"\"\n",
    "    if num == 0:\n",
    "        return 1\n",
    "    else:\n",
    "        i_fac_value: int = factorial(num - 1)\n",
    "        result: int = num * i_fac_value\n",
    "        return result\n",
    "    \n",
    "factorial: int = factorial(num)\n",
    "\n",
    "#// END_TODO [Factorials]\n",
    "\n",
    "print(factorial)"
   ]
  },
  {
   "cell_type": "markdown",
   "metadata": {},
   "source": [
    "# Fibonacci Number"
   ]
  },
  {
   "cell_type": "markdown",
   "metadata": {},
   "source": [
    "Write a program that computes the Fibonacci number in the $n^{th}$ position of the Fibonacci sequence. In mathematics, the Fibonacci numbers, form a sequence, the Fibonacci sequence, in which each number is the sum of the two preceding ones.\n",
    "The Fibonacci sequence starts with `0` and `1`. \n",
    "\n",
    "Afterwards, to compute the term number $n$ you use the following formula $x_n = x_{n - 2} + x_{n - 1}$.\n",
    "Thus, the Fibonacci sequence looks like $0, 1, 1, 2, 3, 5, 8, 13, 21, ...$\n",
    "\n",
    "| Position | Fibonacci number |\n",
    "|:--------:|:----------------:|\n",
    "| 0 | 0 |\n",
    "| 1 | 1 |\n",
    "| 2 | 1 |\n",
    "| 3 | 2 |\n",
    "| 4 | 3 |\n",
    "| 5 | 5 |\n",
    "| 6 | 8 |\n",
    "| 7 | 13 |\n",
    "| 8 | 21 |\n",
    "| 9 | 34 |\n",
    "| 10 | 55 |\n",
    "| ... | ... |\n",
    "\n",
    "For example, the $6^{th}$ Fibonacci number of the sequence corresponds to 8.\n",
    "\n",
    "Set the Fibonacci number position in the variable `n` and print the message: \"The Fibonacci number in position `<n>` corresponds to `<fibonacci_num>`\".\n",
    "\n",
    "**Note:**<br>\n",
    "1. Make use of a `while` loop.\n",
    "2. Store the $n^{th}$ Fibonacci number in the variable `fibonacci`.\n",
    "3. The `n` variable has been given, there is no need to define it yourself.\n",
    "\n",
    "**Example:**\n",
    "```python\n",
    "# Input\n",
    "n = 10\n",
    "\n",
    "# Output\n",
    "'The Fibonacci number in position 10 corresponds to 55.'\n",
    "```"
   ]
  },
  {
   "cell_type": "code",
   "execution_count": 13,
   "metadata": {},
   "outputs": [
    {
     "name": "stdout",
     "output_type": "stream",
     "text": [
      "The Fibonacci number in position 10 corresponds to 55.\n"
     ]
    }
   ],
   "source": [
    "n = 10\n",
    "\n",
    "#// BEGIN_TODO [Fibonacci_number] Fibonacci number\n",
    "\n",
    "def fibonacci(n: int) -> int:\n",
    "    \"\"\"\n",
    "    Calculates the fibonacci number of its argument, being n > 1.\n",
    "    :param n: integer value \n",
    "    :returns: fibonacci value\n",
    "    \n",
    "    >>> fibonacci(0) # base case 0\n",
    "    0\n",
    "    >>> fibonacci(1) # base case 1\n",
    "    1\n",
    "    >>> fibonacci(13) # arbtriry number\n",
    "    233\n",
    "    \"\"\"\n",
    "    if n == 0:\n",
    "        return 0\n",
    "    elif n == 1:\n",
    "        return 1\n",
    "    else: \n",
    "        return fibonacci(n - 1) + fibonacci(n - 2)\n",
    "\n",
    "fibbonacci: int = fibonacci(n)\n",
    "#// END_TODO [Fibonacci_number]\n",
    "\n",
    "print(f\"The Fibonacci number in position {n} corresponds to {fibbonacci}.\")"
   ]
  },
  {
   "cell_type": "markdown",
   "metadata": {},
   "source": [
    "# Collatz Conjecture"
   ]
  },
  {
   "cell_type": "markdown",
   "metadata": {},
   "source": [
    "We can also use `while` loops to iterate an arbitrary number of times that is not predetermined,\n",
    "but that depends on some conditions to be achieved.\n",
    "\n",
    "This is useful to investigate mathematical problems\n",
    "such as the famous _Collatz Conjecture_.\n",
    "\n",
    "The Collatz Conjecture involves an easy iterated formula,\n",
    "which repeatedly modifies an integer `n`.\n",
    "Here are the rules:\n",
    "\n",
    "* If `n` equals 1, stop (after this it will loop 1, 4, 2, 1, ...).\n",
    "* If `n` is even: divide it by 2.\n",
    "* If `n` is odd: multiply it by 3 and add 1.\n",
    "\n",
    "The Collatz Conjecture states that every positive starting value will eventually reach 1.<br>\n",
    "This hasn't been formally proven yet, but it is conjectured to be true.\n",
    "\n",
    "You will create a program using a `while`-loop that prints the Collatz sequence that starts with `n`.\n",
    "\n",
    "Example (with `n = 20`):\n",
    "\n",
    "```\n",
    "20\n",
    "10\n",
    "5\n",
    "16\n",
    "8\n",
    "4\n",
    "2\n",
    "1\n",
    "```\n",
    "\n",
    "**Hints**:\n",
    "* Use integer division (`//`) and remainder (`%`).\n",
    "* Use an `if`-`else`-statement inside the `while` loop."
   ]
  },
  {
   "cell_type": "code",
   "execution_count": null,
   "metadata": {},
   "outputs": [],
   "source": [
    "n = 20\n",
    "\n",
    "    #// BEGIN_TODO [Collatz_conjecture] Collatz Conjecture\n",
    "\n",
    "\n",
    "  \n",
    "\n",
    "    #// END_TODO [Collatz_conjecture]"
   ]
  },
  {
   "cell_type": "markdown",
   "metadata": {},
   "source": [
    "# Trigonometry"
   ]
  },
  {
   "cell_type": "markdown",
   "metadata": {},
   "source": [
    "Create the function `compute_hypothenuse`, which computes and returns the hypothenuse of a right-angled triangle given an angle in degrees and the length of the side adjacent to the angle.\n",
    "\n",
    "*Hint 1:* $cos x = \\frac{A}{H}$ where $x$ is the value of the angle, $A$ is the side adjacent to the angle, and $H$ is the length of the hypothenuse.\n",
    "\n",
    "*Hint 2*: The `math` module provides the method `cos`. This method receives an angle in radians (**not** degrees).<br><br>\n",
    "\n",
    "**Note:**<br>\n",
    "1.You could use this $\\frac{angle \\, in \\, radians}{\\pi} = \\frac{angle \\, in \\, degrees}{180}$ formula to convert degrees to radians.<br>\n",
    "2. You could use `math.pi` to import ${\\pi}$ and use its value.<br>\n",
    "3. The function must have a docstring and type hints that describe the purpose of the function.<br>\n",
    "4. Make sure to use the same exact ordering for parameters that we determined above.<br><br>\n",
    "\n",
    "**Example:**\n",
    "```python\n",
    "# Input\n",
    "angle = 39\n",
    "side = 19\n",
    "\n",
    "# Output \n",
    "24.44843175197018\n",
    "```"
   ]
  },
  {
   "cell_type": "code",
   "execution_count": null,
   "metadata": {},
   "outputs": [],
   "source": [
    "angle = 39\n",
    "side = 19\n",
    "\n",
    "#// BEGIN_TODO [Trigonometry] Trigonometry \n",
    "\n",
    "\n",
    "#// END_TODO [Trigonometry]\n",
    "\n",
    "compute_hypothenuse(angle, side)"
   ]
  },
  {
   "cell_type": "markdown",
   "metadata": {},
   "source": [
    "# Pyramid of Giza"
   ]
  },
  {
   "cell_type": "markdown",
   "metadata": {},
   "source": [
    "The Pyramid of Giza is a square pyramid built in Egypt around 2.500 BC. The squared base of the pyramid has a side length of 230m. The height of the pyramid is 140m. Create the function `compute_pyramid_area` that computes the surface area (area of the lateral surfaces and the base) of any pyramid. The function takes the side length of the pyramid square base, and the height of the pyramid as decimal parameters. Name them `side` and `height`, respectively. The surface area of a square pyramid is defined as $A = a^2 + 2as$, where $a$ is the length of the base side and $s$ is the slant height. The slant height is the distance on a lateral face that goes from the base to the apex. Notice that you need to compute the slant height within the function.\n",
    "\n",
    "![Square based pyramid](datasets/pyramid.png)\n",
    "\n",
    "**Note:**<br>\n",
    "1. Don't forget to use the Pythagorean theorem.<br>\n",
    "2. The function must have a docstring and type hints that describe the purpose of the function.<br>\n",
    "3. Make sure to use the same exact ordering for parameters that we determined above.<br><br> \n",
    "\n",
    "**Example:**\n",
    "```python\n",
    "# Input\n",
    "side = 230\n",
    "height = 140\n",
    "\n",
    "# Output \n",
    "136241.28628716982\n",
    "```"
   ]
  },
  {
   "cell_type": "code",
   "execution_count": null,
   "metadata": {},
   "outputs": [],
   "source": [
    "side = 230\n",
    "height = 140\n",
    "\n",
    "#// BEGIN_TODO [Pyramid_of_giza] Pyramid of giza \n",
    "\n",
    "\n",
    "#// END_TODO [Pyramid_of_giza]\n",
    "\n",
    "compute_pyramid_area(side, height)"
   ]
  },
  {
   "cell_type": "markdown",
   "metadata": {},
   "source": [
    "# Prime Numbers"
   ]
  },
  {
   "cell_type": "markdown",
   "metadata": {},
   "source": [
    "Create a function `primes` that takes an integer `max_num` as an argument and returns a list containing the prime numbers between 2 and `max_num` inclusive.<br>\n",
    "\n",
    "**Notes:**\n",
    "1. You can assume that `max_num` is always larger than 2.\n",
    "2. You can create auxiliary functions to help you solve the problem.\n",
    "3. The function must have a docstring and type hints.\n",
    "\n",
    "**Example:**  \n",
    "*Input:*  \n",
    "```python\n",
    "max_num = 23\n",
    "```\n",
    "\n",
    "*Output:*  \n",
    "```Python\n",
    "[2, 3, 5, 7, 11, 13, 17, 19, 23]\n",
    "```"
   ]
  },
  {
   "cell_type": "code",
   "execution_count": null,
   "metadata": {},
   "outputs": [],
   "source": [
    "#// BEGIN_TODO [Prime_numbers] Prime numbers \n",
    "\n",
    "#-If the number is less than 2 (like 0 or 1), it's not considered prime because it doesn't follow the rule of being greater than 1.\n",
    "#-For other numbers, it checks if any smaller number (between 2 and the square root of the number) can divide it evenly (with no leftover). If any such number is found, it's not a prime number.\n",
    "#-If no such smaller number is found, it's considered a prime number, and the function \n",
    "\n",
    "from typing import List\n",
    "\n",
    "def is_prime(num: int) -> bool:\n",
    "    \"\"\"\n",
    "    Check if a given number is prime.\n",
    "    \n",
    "    num: int = The number to check.\n",
    "    \n",
    "    Returns True if the number is prime, False otherwise.\n",
    "    \"\"\"\n",
    "    if num < 2:\n",
    "        return False\n",
    "    for i in range(2, int(num**0.5) + 1):\n",
    "        if num % i == 0:\n",
    "            return False\n",
    "    return True\n",
    "\n",
    "#-It starts with an empty list called prime_list where we'll collect our prime numbers.\n",
    "#-It goes through each number, starting from 2 up to the given maximum number.\n",
    "#-For each number, it calls the is_prime function to check if it's a prime number or not.\n",
    "#-If the number is prime, it adds it to the prime_list.\n",
    "#-After checking all the numbers, it returns the prime_list containing all the prime numbers it found.\n",
    "\n",
    "\n",
    "def primes(max_num: int) -> List[int]:\n",
    "    \"\"\"\n",
    "    Generate a list of prime numbers between 2 and max_num inclusive.\n",
    "    \n",
    "    max_num: int = The maximum number in the range.\n",
    "    \n",
    "    returns A list of prime numbers.\n",
    "    \"\"\"\n",
    "    prime_list = []\n",
    "    for num in range(2, max_num + 1):\n",
    "        if is_prime(num):\n",
    "            prime_list.append(num)\n",
    "    return prime_list\n",
    "    \n",
    "    \n",
    "#// END_TODO [Prime_numbers]\n",
    "\n",
    "primes(23)"
   ]
  },
  {
   "cell_type": "markdown",
   "metadata": {},
   "source": [
    "\n",
    "---"
   ]
  },
  {
   "cell_type": "code",
   "execution_count": null,
   "metadata": {},
   "outputs": [],
   "source": [
    "# List of all defined names\n",
    "%whos"
   ]
  },
  {
   "cell_type": "markdown",
   "metadata": {},
   "source": [
    "---\n",
    "\n",
    "# (End of Notebook)\n",
    "\n",
    "&copy; 2017-2023 - **TU/e** - Eindhoven University of Technology\n"
   ]
  }
 ],
 "metadata": {
  "anaconda-cloud": {},
  "kernelspec": {
   "display_name": "Python 3 (ipykernel)",
   "language": "python",
   "name": "python3"
  },
  "language_info": {
   "codemirror_mode": {
    "name": "ipython",
    "version": 3
   },
   "file_extension": ".py",
   "mimetype": "text/x-python",
   "name": "python",
   "nbconvert_exporter": "python",
   "pygments_lexer": "ipython3",
   "version": "3.10.12"
  },
  "vscode": {
   "interpreter": {
    "hash": "440ded6bd466dc632760b2783eaa5924fc8bb7d8bd9dda723193caf011fd0fab"
   }
  }
 },
 "nbformat": 4,
 "nbformat_minor": 4
}
